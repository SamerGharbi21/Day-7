{
 "cells": [
  {
   "cell_type": "code",
   "execution_count": 92,
   "id": "212fd1ba",
   "metadata": {},
   "outputs": [],
   "source": [
    "import numpy as np"
   ]
  },
  {
   "cell_type": "markdown",
   "id": "10803eb0",
   "metadata": {},
   "source": [
    "## Q#1: Create x array with elements equal to 1."
   ]
  },
  {
   "cell_type": "code",
   "execution_count": 93,
   "id": "3307454f",
   "metadata": {},
   "outputs": [
    {
     "name": "stdout",
     "output_type": "stream",
     "text": [
      "[1.]\n"
     ]
    }
   ],
   "source": [
    "x = np.ones(1)\n",
    "print(x)"
   ]
  },
  {
   "cell_type": "markdown",
   "id": "7795306d",
   "metadata": {},
   "source": [
    "## Q#2: Create y array with elements equal to 0."
   ]
  },
  {
   "cell_type": "code",
   "execution_count": 94,
   "id": "9550b063",
   "metadata": {},
   "outputs": [
    {
     "name": "stdout",
     "output_type": "stream",
     "text": [
      "[0.]\n"
     ]
    }
   ],
   "source": [
    "y = np.zeros(1)\n",
    "print(y)"
   ]
  },
  {
   "cell_type": "markdown",
   "id": "cde6a939",
   "metadata": {},
   "source": [
    "## Q#3: Add x and y arrays."
   ]
  },
  {
   "cell_type": "code",
   "execution_count": 95,
   "id": "71070d1d",
   "metadata": {},
   "outputs": [
    {
     "name": "stdout",
     "output_type": "stream",
     "text": [
      "[1.]\n"
     ]
    }
   ],
   "source": [
    "print(x + y) "
   ]
  },
  {
   "cell_type": "markdown",
   "id": "ed854f4c",
   "metadata": {},
   "source": [
    "## Q#4: Print x array characteristics (e.g: dimension, shape, size, type)."
   ]
  },
  {
   "cell_type": "code",
   "execution_count": 96,
   "id": "32627c83",
   "metadata": {},
   "outputs": [
    {
     "name": "stdout",
     "output_type": "stream",
     "text": [
      "shape (1,)\n",
      "dimension 1\n",
      "size 1\n",
      "Data type float64\n",
      "type <class 'numpy.ndarray'>\n"
     ]
    }
   ],
   "source": [
    "print(\"shape\" , x.shape)\n",
    "print(\"dimension\" , x.ndim)\n",
    "print(\"size\" , x.size)\n",
    "print(\"Data type\" , x.dtype)\n",
    "print(\"type\" , type(x))"
   ]
  },
  {
   "cell_type": "markdown",
   "id": "dbd46a73",
   "metadata": {},
   "source": [
    "## Q#5: Create a 2D array \"called w\" as the following:\n",
    "\n",
    "|       |          |\n",
    "| ----- | -------- |\n",
    "| 11    | 12       |\n",
    "| 13    | 14       |\n",
    "| 15    | 16       |\n"
   ]
  },
  {
   "cell_type": "code",
   "execution_count": 97,
   "id": "b9c7bbb0",
   "metadata": {},
   "outputs": [
    {
     "data": {
      "text/plain": [
       "array([[11, 12],\n",
       "       [13, 14],\n",
       "       [15, 16]])"
      ]
     },
     "execution_count": 97,
     "metadata": {},
     "output_type": "execute_result"
    }
   ],
   "source": [
    "w = np.array([[11 , 12] , [13 , 14] , [15 , 16]])\n",
    "w"
   ]
  },
  {
   "cell_type": "markdown",
   "id": "0e62bd09",
   "metadata": {},
   "source": [
    "## Q#6: Create z array contains the numbers from 1 to 3."
   ]
  },
  {
   "cell_type": "code",
   "execution_count": 98,
   "id": "cee8aba0",
   "metadata": {},
   "outputs": [
    {
     "data": {
      "text/plain": [
       "array([[1, 2, 3]])"
      ]
     },
     "execution_count": 98,
     "metadata": {},
     "output_type": "execute_result"
    }
   ],
   "source": [
    "z = np.array([[1 , 2 , 3]])\n",
    "z "
   ]
  },
  {
   "cell_type": "markdown",
   "id": "32b00711",
   "metadata": {},
   "source": [
    "## Q#7: Combine the arrays z and w in horizontal way then save it in a new variable \"newArray\"."
   ]
  },
  {
   "cell_type": "code",
   "execution_count": 99,
   "id": "2548dfdb-9bd6-49c2-8f2d-333584d0dc3f",
   "metadata": {},
   "outputs": [
    {
     "name": "stdout",
     "output_type": "stream",
     "text": [
      "(3, 2) (3, 1)\n"
     ]
    }
   ],
   "source": [
    "print(w.shape , z.T.shape)"
   ]
  },
  {
   "cell_type": "code",
   "execution_count": 100,
   "id": "d218f892",
   "metadata": {},
   "outputs": [
    {
     "data": {
      "text/plain": [
       "array([[ 1, 11, 12],\n",
       "       [ 2, 13, 14],\n",
       "       [ 3, 15, 16]])"
      ]
     },
     "execution_count": 100,
     "metadata": {},
     "output_type": "execute_result"
    }
   ],
   "source": [
    "newArray = np.hstack((z.T, w))\n",
    "newArray "
   ]
  },
  {
   "cell_type": "markdown",
   "id": "7e009910",
   "metadata": {},
   "source": [
    "## Q#8: Print all elements of \"newArray\" using the loop."
   ]
  },
  {
   "cell_type": "code",
   "execution_count": 101,
   "id": "abbed923",
   "metadata": {},
   "outputs": [
    {
     "name": "stdout",
     "output_type": "stream",
     "text": [
      "1\n",
      "11\n",
      "12\n",
      "2\n",
      "13\n",
      "14\n",
      "3\n",
      "15\n",
      "16\n"
     ]
    }
   ],
   "source": [
    "for x in newArray :\n",
    "    for y in x :\n",
    "        print(y)"
   ]
  },
  {
   "cell_type": "markdown",
   "id": "011c6d2d",
   "metadata": {},
   "source": [
    "## Q#9: Reverse the columns and rows of \"newArray\"."
   ]
  },
  {
   "cell_type": "code",
   "execution_count": 102,
   "id": "12e3f0db",
   "metadata": {
    "scrolled": true
   },
   "outputs": [
    {
     "name": "stdout",
     "output_type": "stream",
     "text": [
      "[16 15  3]\n",
      "[14 13  2]\n",
      "[12 11  1]\n"
     ]
    }
   ],
   "source": [
    "for x in np.fliplr(newArray)[::-1]:\n",
    "    print(x)"
   ]
  },
  {
   "cell_type": "markdown",
   "id": "f40b57c3",
   "metadata": {},
   "source": [
    "## Q#10: Decrement all elements of \"newArray\" with 1."
   ]
  },
  {
   "cell_type": "code",
   "execution_count": 103,
   "id": "aea004df",
   "metadata": {},
   "outputs": [
    {
     "name": "stdout",
     "output_type": "stream",
     "text": [
      "[[ 0 10 11]\n",
      " [ 1 12 13]\n",
      " [ 2 14 15]]\n"
     ]
    }
   ],
   "source": [
    "newArray1 = newArray -1\n",
    "print(newArray1)"
   ]
  },
  {
   "cell_type": "markdown",
   "id": "8901e8be",
   "metadata": {},
   "source": [
    "## Q#11: Find smallest and biggest values in \"newArray\"."
   ]
  },
  {
   "cell_type": "code",
   "execution_count": 104,
   "id": "4ea08613",
   "metadata": {},
   "outputs": [
    {
     "name": "stdout",
     "output_type": "stream",
     "text": [
      "thw smallest number is :  1\n",
      "thw biggest number is :  16\n"
     ]
    }
   ],
   "source": [
    "print(\"thw smallest number is : \" ,newArray.min())\n",
    "print(\"thw biggest number is : \" ,newArray.max())"
   ]
  },
  {
   "cell_type": "markdown",
   "id": "c5d5d4ca",
   "metadata": {},
   "source": [
    "## Q#12: Print the first row of \"newArray\" using indexing."
   ]
  },
  {
   "cell_type": "code",
   "execution_count": 105,
   "id": "73e3b5a5",
   "metadata": {},
   "outputs": [
    {
     "name": "stdout",
     "output_type": "stream",
     "text": [
      "First row:  [ 1 11 12]\n"
     ]
    }
   ],
   "source": [
    "print('First row: ', newArray[0])"
   ]
  },
  {
   "cell_type": "markdown",
   "id": "78f4d6c1",
   "metadata": {},
   "source": [
    "## Q#13: Print the number equals 12 of \"newArray\" using indexing."
   ]
  },
  {
   "cell_type": "code",
   "execution_count": 106,
   "id": "7ad660b7",
   "metadata": {},
   "outputs": [
    {
     "name": "stdout",
     "output_type": "stream",
     "text": [
      "12\n"
     ]
    }
   ],
   "source": [
    "print(newArray[0][2])"
   ]
  },
  {
   "cell_type": "markdown",
   "id": "932b5c3d",
   "metadata": {},
   "source": [
    "## Q#14: Print the numbers equal 0 and 13 of \"newArray\" using indexing."
   ]
  },
  {
   "cell_type": "code",
   "execution_count": 107,
   "id": "31fb5fd0",
   "metadata": {},
   "outputs": [
    {
     "name": "stdout",
     "output_type": "stream",
     "text": [
      "0\n",
      "13\n"
     ]
    }
   ],
   "source": [
    "print(newArray1[0][0])\n",
    "print(newArray1[1][2])"
   ]
  },
  {
   "cell_type": "markdown",
   "id": "27e0f68e",
   "metadata": {},
   "source": [
    "## Q#15: Change the shape of \"newArray\" to (9,1)."
   ]
  },
  {
   "cell_type": "code",
   "execution_count": 108,
   "id": "35f224ad",
   "metadata": {
    "scrolled": true
   },
   "outputs": [
    {
     "data": {
      "text/plain": [
       "array([[ 1],\n",
       "       [11],\n",
       "       [12],\n",
       "       [ 2],\n",
       "       [13],\n",
       "       [14],\n",
       "       [ 3],\n",
       "       [15],\n",
       "       [16]])"
      ]
     },
     "execution_count": 108,
     "metadata": {},
     "output_type": "execute_result"
    }
   ],
   "source": [
    "newArray1 =  newArray.reshape(9,1)\n",
    "newArray1 "
   ]
  },
  {
   "cell_type": "markdown",
   "id": "e6d104c5",
   "metadata": {},
   "source": [
    "## Q#16: Change the shape of \"newArray\" to (3,2)."
   ]
  },
  {
   "cell_type": "code",
   "execution_count": 81,
   "id": "724d51d5",
   "metadata": {},
   "outputs": [
    {
     "ename": "ValueError",
     "evalue": "cannot reshape array of size 9 into shape (3,2)",
     "output_type": "error",
     "traceback": [
      "\u001b[1;31m---------------------------------------------------------------------------\u001b[0m",
      "\u001b[1;31mValueError\u001b[0m                                Traceback (most recent call last)",
      "Cell \u001b[1;32mIn[81], line 1\u001b[0m\n\u001b[1;32m----> 1\u001b[0m \u001b[38;5;28mprint\u001b[39m(\u001b[43mnewArray1\u001b[49m\u001b[38;5;241;43m.\u001b[39;49m\u001b[43mreshape\u001b[49m\u001b[43m(\u001b[49m\u001b[38;5;241;43m3\u001b[39;49m\u001b[43m,\u001b[49m\u001b[38;5;241;43m2\u001b[39;49m\u001b[43m)\u001b[49m)\n",
      "\u001b[1;31mValueError\u001b[0m: cannot reshape array of size 9 into shape (3,2)"
     ]
    }
   ],
   "source": [
    "print(newArray1.reshape(3,2))"
   ]
  },
  {
   "cell_type": "markdown",
   "id": "09567fdc",
   "metadata": {},
   "source": [
    "# Well Done 🎉"
   ]
  }
 ],
 "metadata": {
  "kernelspec": {
   "display_name": "Python 3 (ipykernel)",
   "language": "python",
   "name": "python3"
  },
  "language_info": {
   "codemirror_mode": {
    "name": "ipython",
    "version": 3
   },
   "file_extension": ".py",
   "mimetype": "text/x-python",
   "name": "python",
   "nbconvert_exporter": "python",
   "pygments_lexer": "ipython3",
   "version": "3.11.7"
  }
 },
 "nbformat": 4,
 "nbformat_minor": 5
}
